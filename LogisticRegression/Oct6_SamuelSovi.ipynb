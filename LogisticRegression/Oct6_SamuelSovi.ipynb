{
  "nbformat": 4,
  "nbformat_minor": 0,
  "metadata": {
    "colab": {
      "provenance": []
    },
    "kernelspec": {
      "name": "python3",
      "display_name": "Python 3"
    },
    "language_info": {
      "name": "python"
    }
  },
  "cells": [
    {
      "cell_type": "markdown",
      "source": [
        "# Project: Logistic Regression\n",
        "### by Samuel Sovi\n",
        "\n",
        "In this project I will be attempting to use the max temperature of a given day, the amount of precipitation and the wind speed to predict whether the minimum temperature is realtively cold or hot.\n",
        "\n",
        "**Additional note**: a large portion of the code was taken from my Sept16 Project"
      ],
      "metadata": {
        "id": "WPni1zm0WGrc"
      }
    },
    {
      "cell_type": "markdown",
      "source": [
        "##### Imports:\n",
        "I imported pandas for DataFrame access, numpy for calculations and arrays, tabulate for creating tables, LogisticRegression for fitting and predicting and matplotlib.pyplot and seaborn for graphing"
      ],
      "metadata": {
        "id": "HErF6g73WOoL"
      }
    },
    {
      "cell_type": "code",
      "execution_count": null,
      "metadata": {
        "id": "9gN_Nyw_N0HF"
      },
      "outputs": [],
      "source": [
        "import pandas as pd\n",
        "import numpy as np\n",
        "from tabulate import tabulate\n",
        "from sklearn.linear_model import LogisticRegression\n",
        "import matplotlib.pyplot as plt\n",
        "import seaborn as sns"
      ]
    },
    {
      "cell_type": "markdown",
      "source": [
        "I once again decided to use a github raw csv link for my data which I got from MeteoStat's API on RapidAPI last semester."
      ],
      "metadata": {
        "id": "nTxBfkbkWUTu"
      }
    },
    {
      "cell_type": "code",
      "source": [
        "data_url = \"https://raw.githubusercontent.com/samps7/CSPC323_Files/main/weather_cleaned.csv\"\n",
        "\n",
        "data_df = pd.read_csv(data_url)\n"
      ],
      "metadata": {
        "id": "oI_x5Mq2WXIB"
      },
      "execution_count": null,
      "outputs": []
    },
    {
      "cell_type": "code",
      "source": [
        "print(\"original data\")\n",
        "print(data_df)"
      ],
      "metadata": {
        "colab": {
          "base_uri": "https://localhost:8080/"
        },
        "id": "yKyRuoF0YqzV",
        "outputId": "5b1aede4-f0bf-422b-9775-576708f2385e"
      },
      "execution_count": null,
      "outputs": [
        {
          "output_type": "stream",
          "name": "stdout",
          "text": [
            "original data\n",
            "           date  tavg  tmin  tmax   prcp   wdir  wspd    pres\n",
            "0    2021-02-21  52.5  42.1  64.0  0.000  344.0   4.2  1030.0\n",
            "1    2021-02-22  56.5  45.0  72.0  0.000  354.0   3.6  1025.0\n",
            "2    2021-02-23  59.5  46.0  78.1  0.000  337.0   5.0  1020.0\n",
            "3    2021-02-24  57.6  43.0  71.1  0.000  351.0   6.8  1021.7\n",
            "4    2021-02-25  56.7  46.9  66.9  0.000  321.0   9.2  1023.7\n",
            "..          ...   ...   ...   ...    ...    ...   ...     ...\n",
            "360  2022-02-16  57.6  44.6  69.8  0.000  317.0   8.8  1017.4\n",
            "361  2022-02-17  58.1  48.2  68.0  0.000  295.0   5.3  1024.8\n",
            "362  2022-02-18  54.3  42.8  68.0  0.000  155.0   4.3  1024.3\n",
            "363  2022-02-19  56.7  44.6  69.8  0.000  317.0   4.4  1019.8\n",
            "364  2022-02-20  51.8  42.8  62.6  0.004  330.0   6.5  1015.4\n",
            "\n",
            "[365 rows x 8 columns]\n"
          ]
        }
      ]
    },
    {
      "cell_type": "markdown",
      "source": [
        "Next, I randomize the order of my data set so that I can perform more accurate random sampling for my Linear Regression model"
      ],
      "metadata": {
        "id": "q-Wl75wCdX4s"
      }
    },
    {
      "cell_type": "code",
      "source": [
        "\n",
        "# randomize the order of data for more accurate random sampling\n",
        "data_df = data_df.sample(frac=1).reset_index(drop=True)\n",
        "print(data_df)"
      ],
      "metadata": {
        "colab": {
          "base_uri": "https://localhost:8080/"
        },
        "id": "7jodu0UnAFaE",
        "outputId": "2bd80401-6262-4047-920e-a71aba7d3fed"
      },
      "execution_count": null,
      "outputs": [
        {
          "output_type": "stream",
          "name": "stdout",
          "text": [
            "           date  tavg  tmin  tmax   prcp   wdir  wspd    pres\n",
            "0    2021-08-07  69.3  61.0  82.0  0.000  330.0   6.6  1011.6\n",
            "1    2021-06-28  65.3  59.0  75.0  0.000  335.0   8.7  1009.7\n",
            "2    2021-07-21  66.6  57.0  77.0  0.000  325.0   6.6  1013.5\n",
            "3    2022-02-13  60.6  48.2  78.8  0.000  355.0   3.5  1022.4\n",
            "4    2021-06-05  64.9  52.0  80.1  0.000  326.0   7.1  1012.5\n",
            "..          ...   ...   ...   ...    ...    ...   ...     ...\n",
            "360  2021-12-07  53.2  46.4  57.2  0.028  210.0   4.0  1015.8\n",
            "361  2021-10-21  67.8  63.0  75.0  0.000  168.0   8.7  1018.1\n",
            "362  2022-01-28  51.4  39.2  66.2  0.000  180.0   3.3  1024.7\n",
            "363  2021-05-27  61.0  50.0  71.1  0.000  353.0   6.3  1019.4\n",
            "364  2021-11-25  52.9  41.0  69.1  0.000   11.0   2.8  1026.7\n",
            "\n",
            "[365 rows x 8 columns]\n"
          ]
        }
      ]
    },
    {
      "cell_type": "markdown",
      "source": [
        "I start collecting my data from the dataset by obtaining the four columns that I am interested in: maximum temperature, precipitation, wind speed and minimum temperature (of each day).\n",
        "\n",
        "Furthermore, I calculate 80% of the total number of days to take for training"
      ],
      "metadata": {
        "id": "d5UcpRVzdfx4"
      }
    },
    {
      "cell_type": "code",
      "source": [
        "np.set_printoptions(suppress = True)\n",
        "# getting x and y train/test values into arrays\n",
        "X_vals = data_df[[\"tmax\", \"prcp\", \"wspd\"]].copy().values\n",
        "#X_vals = np.round(X_vals, 2)\n",
        "#X_vals = data_df[\"tmax\"].to_numpy()\n",
        "y_vals = data_df[\"tmin\"].to_numpy()\n",
        "colder_threshold = np.median(y_vals)\n",
        "y_vals = y_vals < colder_threshold\n",
        "\n",
        "train_number = int(0.8 * len(X_vals))\n",
        "print(\"amount used for training:\", train_number)\n",
        "\n",
        "\n"
      ],
      "metadata": {
        "colab": {
          "base_uri": "https://localhost:8080/"
        },
        "id": "XvSHXQZKBLJM",
        "outputId": "a7dd6c7c-b59f-473d-ad98-4a3123f589cb"
      },
      "execution_count": null,
      "outputs": [
        {
          "output_type": "stream",
          "name": "stdout",
          "text": [
            "amount used for training: 292\n"
          ]
        }
      ]
    },
    {
      "cell_type": "markdown",
      "source": [
        "I separate training and testing with an 80/20 split on the total data as recommended in class"
      ],
      "metadata": {
        "id": "CLtLPMxseGWF"
      }
    },
    {
      "cell_type": "code",
      "source": [
        "X_train = X_vals[0:train_number]\n",
        "#print(X_train)\n",
        "#X_train = X_vals[0:train_number].reshape(-1,1)\n",
        "y_train = y_vals[0:train_number]\n",
        "#print(y_train)\n",
        "\n",
        "X_test = X_vals[train_number:]\n",
        "#X_test = X_vals[train_number:].reshape(-1,1)\n",
        "y_test = y_vals[train_number:]"
      ],
      "metadata": {
        "id": "tI8g-MJXag2j"
      },
      "execution_count": null,
      "outputs": []
    },
    {
      "cell_type": "markdown",
      "source": [
        "\n",
        "My Model class contains the predict, fit and score methods for predicting the minimum weather for a given day, fitting the data to the regressor and scoring how accurate the model is."
      ],
      "metadata": {
        "id": "DXHFWGK9aqBD"
      }
    },
    {
      "cell_type": "code",
      "source": [
        "class Model:\n",
        "  def predict(self, X_test, reg):\n",
        "    #return self.reg.predict(X_test)\n",
        "    return reg.predict(X_test)\n",
        "\n",
        "  def fit(self, X_train, y_train, reg):\n",
        "    #self.reg = LogisticRegression(random_state=0).fit(X_train, y_train)\n",
        "    return reg.fit(X_train, y_train)\n",
        "  \n",
        "  def score(self, X, y, reg):\n",
        "    return reg.score(X,y)\n"
      ],
      "metadata": {
        "id": "Wlb5DQInWcKs"
      },
      "execution_count": null,
      "outputs": []
    },
    {
      "cell_type": "code",
      "source": [
        "model1 = Model()"
      ],
      "metadata": {
        "id": "Hll9MbaB75a6"
      },
      "execution_count": null,
      "outputs": []
    },
    {
      "cell_type": "code",
      "source": [
        "reg = LogisticRegression(random_state=0)"
      ],
      "metadata": {
        "id": "p4dC125QdRI4"
      },
      "execution_count": null,
      "outputs": []
    },
    {
      "cell_type": "markdown",
      "source": [
        "Here, I time how long it takes to fit the data to the model:"
      ],
      "metadata": {
        "id": "alOqR-aufBWf"
      }
    },
    {
      "cell_type": "code",
      "source": [
        "%%timeit\n",
        "model1.fit(X_train, y_train, reg)"
      ],
      "metadata": {
        "colab": {
          "base_uri": "https://localhost:8080/"
        },
        "id": "BKD0yMRDHYlf",
        "outputId": "13ca60d9-8f91-44fa-a65f-9775b9fb816f"
      },
      "execution_count": null,
      "outputs": [
        {
          "output_type": "stream",
          "name": "stdout",
          "text": [
            "13.5 ms ± 2.45 ms per loop (mean ± std. dev. of 7 runs, 100 loops each)\n"
          ]
        }
      ]
    },
    {
      "cell_type": "code",
      "source": [
        "reg = model1.fit(X_train, y_train, reg)"
      ],
      "metadata": {
        "id": "ROVoTa3wV1B5"
      },
      "execution_count": null,
      "outputs": []
    },
    {
      "cell_type": "markdown",
      "source": [
        "Here, I time how long it takes to make predictions for the test data"
      ],
      "metadata": {
        "id": "tdwrNiJJfFVc"
      }
    },
    {
      "cell_type": "code",
      "source": [
        "%%timeit\n",
        "model1.predict(X_test, reg)"
      ],
      "metadata": {
        "colab": {
          "base_uri": "https://localhost:8080/"
        },
        "id": "0-dom7ZRHljb",
        "outputId": "f65a1a01-f8ff-4155-df03-ef623498dec0"
      },
      "execution_count": null,
      "outputs": [
        {
          "output_type": "stream",
          "name": "stdout",
          "text": [
            "77.5 µs ± 9.13 µs per loop (mean ± std. dev. of 7 runs, 10000 loops each)\n"
          ]
        }
      ]
    },
    {
      "cell_type": "code",
      "source": [
        "y_predict = model1.predict(X_test, reg)\n",
        "\n",
        "print(\"mean squared error:\", model1.score(X_test, y_test, reg))\n",
        "\n"
      ],
      "metadata": {
        "colab": {
          "base_uri": "https://localhost:8080/"
        },
        "id": "4gCIeM228Lg9",
        "outputId": "bb8b6a19-c11b-468c-a31d-11b9d0cefe67"
      },
      "execution_count": null,
      "outputs": [
        {
          "output_type": "stream",
          "name": "stdout",
          "text": [
            "mean squared error: 0.8082191780821918\n"
          ]
        }
      ]
    },
    {
      "cell_type": "markdown",
      "source": [
        "Here are the model-predicted cold(True) vs hot(False) days:"
      ],
      "metadata": {
        "id": "VTTx7y5cfY1n"
      }
    },
    {
      "cell_type": "code",
      "source": [
        "print(\"predicted y values:\")\n",
        "print(y_predict)"
      ],
      "metadata": {
        "colab": {
          "base_uri": "https://localhost:8080/"
        },
        "id": "vBmLBtS8bHDb",
        "outputId": "0230db63-6f3f-4eac-8e32-415183881ea2"
      },
      "execution_count": null,
      "outputs": [
        {
          "output_type": "stream",
          "name": "stdout",
          "text": [
            "predicted y values:\n",
            "[ True False False False False False  True  True False False  True  True\n",
            "  True False  True False  True False  True False False  True False False\n",
            " False False  True  True False False  True  True  True False False False\n",
            "  True  True  True False  True  True False False  True  True False  True\n",
            "  True False  True False False False  True  True False  True False  True\n",
            " False False  True False  True False  True  True  True False  True  True\n",
            "  True]\n"
          ]
        }
      ]
    },
    {
      "cell_type": "markdown",
      "source": [
        "Here are the test data's original cold(True) vs hot(False) days:"
      ],
      "metadata": {
        "id": "l5_fMdqYfdOv"
      }
    },
    {
      "cell_type": "code",
      "source": [
        "print(\"actual y values:\")\n",
        "print(y_test)"
      ],
      "metadata": {
        "colab": {
          "base_uri": "https://localhost:8080/"
        },
        "id": "0pb2skw9bRwU",
        "outputId": "bf1e2f29-d10a-4a43-df52-0808927b3f8a"
      },
      "execution_count": null,
      "outputs": [
        {
          "output_type": "stream",
          "name": "stdout",
          "text": [
            "actual y values:\n",
            "[ True False False False False  True  True  True False False False  True\n",
            " False False False False  True False  True False False  True  True False\n",
            "  True False  True  True False False  True  True False False  True  True\n",
            "  True  True  True False  True  True False False False  True False  True\n",
            "  True False  True False False False False False False  True False False\n",
            " False False  True False  True  True  True  True  True False  True  True\n",
            "  True]\n"
          ]
        }
      ]
    },
    {
      "cell_type": "markdown",
      "source": [
        "## Graphing:\n",
        "\n",
        "Here I show a relation between the actual various test data X,y and the model's predicition curve for predicted whether minimum temperatures are \"warmer\" or \"colder\""
      ],
      "metadata": {
        "id": "QBP-YdJ2JF3c"
      }
    },
    {
      "cell_type": "code",
      "source": [
        "t_max = [row[0] for row in X_train]\n",
        "graph = sns.regplot(x=t_max, y=y_train,logistic=True)\n",
        "graph.set_xlabel(\"Max Temperature\")\n",
        "graph.set_ylabel(\"0=Hot              1=Cold\")\n",
        "graph.set_title(\"Prediction using Max Temperature\")"
      ],
      "metadata": {
        "colab": {
          "base_uri": "https://localhost:8080/",
          "height": 313
        },
        "id": "ACCJ_TkZXjT-",
        "outputId": "ee112550-7c1c-4ab9-d1ea-890d62625980"
      },
      "execution_count": null,
      "outputs": [
        {
          "output_type": "execute_result",
          "data": {
            "text/plain": [
              "Text(0.5, 1.0, 'Prediction using Max Temperature')"
            ]
          },
          "metadata": {},
          "execution_count": 16
        },
        {
          "output_type": "display_data",
          "data": {
            "text/plain": [
              "<Figure size 432x288 with 1 Axes>"
            ],
            "image/png": "[encoded data removed]"
          },
          "metadata": {
            "needs_background": "light"
          }
        }
      ]
    },
    {
      "cell_type": "markdown",
      "source": [
        "The graph above shows that there exists some relationship between the max temperature and what the lowest temperature was that day in ways of prediction. This was also displayed in my Project 2."
      ],
      "metadata": {
        "id": "V_sqIVnYL03p"
      }
    },
    {
      "cell_type": "code",
      "source": [
        "prcp = [row[1] for row in X_train]\n",
        "graph = sns.regplot(x=prcp, y=y_train,logistic=True)\n",
        "graph.set_xlabel(\"Precipitation\")\n",
        "graph.set_ylabel(\"0=Hot              1=Cold\")\n",
        "graph.set_title(\"Prediction using Precipitation\")"
      ],
      "metadata": {
        "colab": {
          "base_uri": "https://localhost:8080/",
          "height": 313
        },
        "id": "z3YgF4RwbAvu",
        "outputId": "d736d6dc-d119-468f-bc2b-49314656fa4c"
      },
      "execution_count": null,
      "outputs": [
        {
          "output_type": "execute_result",
          "data": {
            "text/plain": [
              "Text(0.5, 1.0, 'Prediction using Precipitation')"
            ]
          },
          "metadata": {},
          "execution_count": 17
        },
        {
          "output_type": "display_data",
          "data": {
            "text/plain": [
              "<Figure size 432x288 with 1 Axes>"
            ],
            "image/png": "[encoded data removed]"
          },
          "metadata": {
            "needs_background": "light"
          }
        }
      ]
    },
    {
      "cell_type": "markdown",
      "source": [
        "The graph above shows that there is not that good of a relation between precipitation and the minimum temperature. Even though, I thought that rain doesn't happen on warm days in San Jose, it seems to not be a very conclusive measure of the temperature."
      ],
      "metadata": {
        "id": "b9xCPztJLnoR"
      }
    },
    {
      "cell_type": "code",
      "source": [
        "wind = [row[2] for row in X_train]\n",
        "graph = sns.regplot(x=wind, y=y_train,logistic=True)\n",
        "graph.set_xlabel(\"Wind Speed\")\n",
        "graph.set_ylabel(\"0=Hot              1=Cold\")\n",
        "graph.set_title(\"Prediction using Wind Speed\")"
      ],
      "metadata": {
        "colab": {
          "base_uri": "https://localhost:8080/",
          "height": 313
        },
        "id": "8sYOb-tmbJIk",
        "outputId": "ecb817f4-f325-4d53-ecd8-8b1cce817f10"
      },
      "execution_count": null,
      "outputs": [
        {
          "output_type": "execute_result",
          "data": {
            "text/plain": [
              "Text(0.5, 1.0, 'Prediction using Wind Speed')"
            ]
          },
          "metadata": {},
          "execution_count": 18
        },
        {
          "output_type": "display_data",
          "data": {
            "text/plain": [
              "<Figure size 432x288 with 1 Axes>"
            ],
            "image/png": "[encoded data removed]"
          },
          "metadata": {
            "needs_background": "light"
          }
        }
      ]
    },
    {
      "cell_type": "markdown",
      "source": [
        "The graph above shows that there seems to be very little relation between the wind speed and actual minimum temperature. Even though the wind makes me feel colder, it doesn't actually reduce the temperature."
      ],
      "metadata": {
        "id": "klJePHgbLS5M"
      }
    },
    {
      "cell_type": "markdown",
      "source": [
        "For the next step, I split the data into warmer and colder minimum temperatures so that I can compute things like accuracy, F1 and generate a confusion matrix.\n",
        "\n",
        "False == warmer\n",
        "\n",
        "True == colder"
      ],
      "metadata": {
        "id": "BXZSS51vfyY4"
      }
    },
    {
      "cell_type": "code",
      "source": [
        "#split data using binary split:\n",
        "\n",
        "colder = y_test \n",
        "colder_df = pd.DataFrame(colder)\n",
        "print(\"count of actual warmer(False) and colder(True) minimum temperatures\")\n",
        "print(colder_df[0].value_counts())\n"
      ],
      "metadata": {
        "colab": {
          "base_uri": "https://localhost:8080/"
        },
        "id": "D7DSyA7aTDc9",
        "outputId": "78343365-d479-4a9a-9782-d8082a8e2d78"
      },
      "execution_count": null,
      "outputs": [
        {
          "output_type": "stream",
          "name": "stdout",
          "text": [
            "count of actual warmer(False) and colder(True) minimum temperatures\n",
            "False    38\n",
            "True     35\n",
            "Name: 0, dtype: int64\n"
          ]
        }
      ]
    },
    {
      "cell_type": "markdown",
      "source": [
        "Now I do the same with the predictions, just to do an initial comparison between the two"
      ],
      "metadata": {
        "id": "LB48XADggNpI"
      }
    },
    {
      "cell_type": "code",
      "source": [
        "colder_predict = y_predict\n",
        "colder_predict_df = pd.DataFrame(colder_predict)\n",
        "\n",
        "print(\"count of predicted warmer(False) and colder(True) minimum temperatures\")\n",
        "print(colder_predict_df[0].value_counts())"
      ],
      "metadata": {
        "colab": {
          "base_uri": "https://localhost:8080/"
        },
        "id": "3cC3MRBqWOHL",
        "outputId": "aaad3153-c63f-4188-b8b4-43ce7d7a4fbd"
      },
      "execution_count": null,
      "outputs": [
        {
          "output_type": "stream",
          "name": "stdout",
          "text": [
            "count of predicted warmer(False) and colder(True) minimum temperatures\n",
            "True     37\n",
            "False    36\n",
            "Name: 0, dtype: int64\n"
          ]
        }
      ]
    },
    {
      "cell_type": "markdown",
      "source": [
        "Next, I count the number of true/false positives and true/false negatives by iterating through both arrays"
      ],
      "metadata": {
        "id": "JoTpeJmGgUCI"
      }
    },
    {
      "cell_type": "code",
      "source": [
        "test_length = len(y_test)\n",
        "\n",
        "true_positive = 0\n",
        "false_positive = 0\n",
        "true_negative = 0\n",
        "false_negative = 0\n",
        "\n",
        "# counting true/false positve and true/false negatives:\n",
        "\n",
        "for i in range(test_length):\n",
        "  if colder[i] == False and colder_predict[i] == False:\n",
        "    true_negative = true_negative + 1\n",
        "  elif colder[i] == True and colder_predict[i] == True:\n",
        "    true_positive = true_positive + 1\n",
        "  elif colder[i] == False and colder_predict[i] == True:\n",
        "    false_positive = false_positive + 1\n",
        "  elif colder[i] == True and colder_predict[i] == False:\n",
        "    false_negative = false_negative + 1"
      ],
      "metadata": {
        "id": "OyBSv4kjWyB4"
      },
      "execution_count": null,
      "outputs": []
    },
    {
      "cell_type": "markdown",
      "source": [
        "Tabulating data to make a Confusion Matrix:"
      ],
      "metadata": {
        "id": "cOo6v5XrgavZ"
      }
    },
    {
      "cell_type": "code",
      "source": [
        "print(\"Confusion Matrix: \\n\")\n",
        "\n",
        "result_table = [[\"\",\"PREDICTED COLDER = True\", \"PREDICTED COLDER = False\"], [\"ACTUAL COLDER = True\", true_positive, false_negative],\n",
        "                [\"ACTUAL COLDER = False\", false_positive, true_negative]]\n",
        "print(tabulate(result_table))"
      ],
      "metadata": {
        "colab": {
          "base_uri": "https://localhost:8080/"
        },
        "id": "Un5VNi1nZCI7",
        "outputId": "ef398c5c-5b00-4374-a826-de04983e3b0d"
      },
      "execution_count": null,
      "outputs": [
        {
          "output_type": "stream",
          "name": "stdout",
          "text": [
            "Confusion Matrix: \n",
            "\n",
            "---------------------  -----------------------  ------------------------\n",
            "                       PREDICTED COLDER = True  PREDICTED COLDER = False\n",
            "ACTUAL COLDER = True   29                       6\n",
            "ACTUAL COLDER = False  8                        30\n",
            "---------------------  -----------------------  ------------------------\n"
          ]
        }
      ]
    },
    {
      "cell_type": "markdown",
      "source": [
        "Calculating accuracy:"
      ],
      "metadata": {
        "id": "XzzagEHWghB2"
      }
    },
    {
      "cell_type": "code",
      "source": [
        "accuracy = (true_positive + true_negative) / test_length\n",
        "\n",
        "print(\"accuracy =\", accuracy)"
      ],
      "metadata": {
        "colab": {
          "base_uri": "https://localhost:8080/"
        },
        "id": "86TSAbDzZemA",
        "outputId": "7dd08051-7cf2-4fc6-cc04-b32080ddd9eb"
      },
      "execution_count": null,
      "outputs": [
        {
          "output_type": "stream",
          "name": "stdout",
          "text": [
            "accuracy = 0.8082191780821918\n"
          ]
        }
      ]
    },
    {
      "cell_type": "markdown",
      "source": [
        "Calculating precision and recall:"
      ],
      "metadata": {
        "id": "G5d2euixglUG"
      }
    },
    {
      "cell_type": "code",
      "source": [
        "precision = true_positive / (true_positive + false_positive)\n",
        "\n",
        "recall = true_positive / (true_positive + false_negative)\n",
        "\n",
        "print(\"precision = \", precision)\n",
        "\n",
        "print(\"recall = \", recall)"
      ],
      "metadata": {
        "colab": {
          "base_uri": "https://localhost:8080/"
        },
        "id": "z4EMIF3gZpxe",
        "outputId": "768a7bbb-55ab-4093-b506-589cf949c10a"
      },
      "execution_count": null,
      "outputs": [
        {
          "output_type": "stream",
          "name": "stdout",
          "text": [
            "precision =  0.7837837837837838\n",
            "recall =  0.8285714285714286\n"
          ]
        }
      ]
    },
    {
      "cell_type": "markdown",
      "source": [
        "Calculating $F_1$:"
      ],
      "metadata": {
        "id": "H9iz6CNXgpaV"
      }
    },
    {
      "cell_type": "code",
      "source": [
        "f_1 = 2 / (1/recall + 1/precision)\n",
        "print(\"f_1 =\", f_1)"
      ],
      "metadata": {
        "colab": {
          "base_uri": "https://localhost:8080/"
        },
        "id": "GQMxcVNpaChs",
        "outputId": "522bc3b0-1b56-45c6-d8fe-a019eaf57ea1"
      },
      "execution_count": null,
      "outputs": [
        {
          "output_type": "stream",
          "name": "stdout",
          "text": [
            "f_1 = 0.8055555555555556\n"
          ]
        }
      ]
    }
  ]
}